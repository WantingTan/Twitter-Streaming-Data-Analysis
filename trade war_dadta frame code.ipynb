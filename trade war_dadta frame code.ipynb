{
 "cells": [
  {
   "cell_type": "code",
   "execution_count": 21,
   "metadata": {},
   "outputs": [],
   "source": [
    "import json\n",
    "import pandas as pd\n",
    "import numpy as np\n",
    "import matplotlib.pyplot as plt"
   ]
  },
  {
   "cell_type": "code",
   "execution_count": 58,
   "metadata": {},
   "outputs": [],
   "source": [
    "tweets_data_path='./twitter data/twitter_trade_data.txt'\n",
    "tweets_trade_data = []\n",
    "tweets_file = open(tweets_data_path, \"r\")\n",
    "\n",
    "#process each line in raw tweets file\n",
    "for line in tweets_file:\n",
    "    try:\n",
    "        tweet = json.loads(line)\n",
    "        tweets_trade_data.append(tweet)\n",
    "    except:\n",
    "        continue"
   ]
  },
  {
   "cell_type": "code",
   "execution_count": 126,
   "metadata": {},
   "outputs": [
    {
     "data": {
      "text/plain": [
       "35758"
      ]
     },
     "execution_count": 126,
     "metadata": {},
     "output_type": "execute_result"
    }
   ],
   "source": [
    "len(tweets_trade_data)"
   ]
  },
  {
   "cell_type": "code",
   "execution_count": 24,
   "metadata": {},
   "outputs": [
    {
     "data": {
      "text/plain": [
       "{'created_at': 'Tue Dec 04 01:55:29 +0000 2018',\n",
       " 'id': 1069772145184522240,\n",
       " 'id_str': '1069772145184522240',\n",
       " 'text': \"RT @rameshlaus: #Hollywood Trade Publication #Deadline covers #2Point0 's ₹ 400 Crs ($60.1 Million) WW Opening Weekend Gross.. \\n\\nhttps://t.…\",\n",
       " 'source': '<a href=\"http://twitter.com/download/android\" rel=\"nofollow\">Twitter for Android</a>',\n",
       " 'truncated': False,\n",
       " 'in_reply_to_status_id': None,\n",
       " 'in_reply_to_status_id_str': None,\n",
       " 'in_reply_to_user_id': None,\n",
       " 'in_reply_to_user_id_str': None,\n",
       " 'in_reply_to_screen_name': None,\n",
       " 'user': {'id': 299161925,\n",
       "  'id_str': '299161925',\n",
       "  'name': 'Godson 2.0',\n",
       "  'screen_name': 'selvarat2k1',\n",
       "  'location': 'India, Tamilnadu',\n",
       "  'url': None,\n",
       "  'description': 'POLITICS...Make it Simple... Humble... and Constructive... The name is Makkal Thalaivar Rajinikanth... Cheers!',\n",
       "  'translator_type': 'none',\n",
       "  'protected': False,\n",
       "  'verified': False,\n",
       "  'followers_count': 254,\n",
       "  'friends_count': 15,\n",
       "  'listed_count': 1,\n",
       "  'favourites_count': 9977,\n",
       "  'statuses_count': 20118,\n",
       "  'created_at': 'Sun May 15 16:21:47 +0000 2011',\n",
       "  'utc_offset': None,\n",
       "  'time_zone': None,\n",
       "  'geo_enabled': False,\n",
       "  'lang': 'en',\n",
       "  'contributors_enabled': False,\n",
       "  'is_translator': False,\n",
       "  'profile_background_color': 'C0DEED',\n",
       "  'profile_background_image_url': 'http://abs.twimg.com/images/themes/theme1/bg.png',\n",
       "  'profile_background_image_url_https': 'https://abs.twimg.com/images/themes/theme1/bg.png',\n",
       "  'profile_background_tile': False,\n",
       "  'profile_link_color': '1DA1F2',\n",
       "  'profile_sidebar_border_color': 'C0DEED',\n",
       "  'profile_sidebar_fill_color': 'DDEEF6',\n",
       "  'profile_text_color': '333333',\n",
       "  'profile_use_background_image': True,\n",
       "  'profile_image_url': 'http://pbs.twimg.com/profile_images/1062755412741513216/yiA_HfhG_normal.jpg',\n",
       "  'profile_image_url_https': 'https://pbs.twimg.com/profile_images/1062755412741513216/yiA_HfhG_normal.jpg',\n",
       "  'profile_banner_url': 'https://pbs.twimg.com/profile_banners/299161925/1543057899',\n",
       "  'default_profile': True,\n",
       "  'default_profile_image': False,\n",
       "  'following': None,\n",
       "  'follow_request_sent': None,\n",
       "  'notifications': None},\n",
       " 'geo': None,\n",
       " 'coordinates': None,\n",
       " 'place': None,\n",
       " 'contributors': None,\n",
       " 'retweeted_status': {'created_at': 'Mon Dec 03 17:11:28 +0000 2018',\n",
       "  'id': 1069640271976001536,\n",
       "  'id_str': '1069640271976001536',\n",
       "  'text': \"#Hollywood Trade Publication #Deadline covers #2Point0 's ₹ 400 Crs ($60.1 Million) WW Opening Weekend Gross..… https://t.co/E6uxUxwrQr\",\n",
       "  'display_text_range': [0, 140],\n",
       "  'source': '<a href=\"http://twitter.com\" rel=\"nofollow\">Twitter Web Client</a>',\n",
       "  'truncated': True,\n",
       "  'in_reply_to_status_id': None,\n",
       "  'in_reply_to_status_id_str': None,\n",
       "  'in_reply_to_user_id': None,\n",
       "  'in_reply_to_user_id_str': None,\n",
       "  'in_reply_to_screen_name': None,\n",
       "  'user': {'id': 102268884,\n",
       "   'id_str': '102268884',\n",
       "   'name': 'Ramesh Bala',\n",
       "   'screen_name': 'rameshlaus',\n",
       "   'location': 'Chennai, India',\n",
       "   'url': 'https://www.instagram.com/rameshlausinsta/',\n",
       "   'description': 'Entertainment Industry Tracker | Covers Hollywood, Bollywood, South Indian and China  | Previously, Did Consulting for Fortune 500 Companies in the US',\n",
       "   'translator_type': 'none',\n",
       "   'protected': False,\n",
       "   'verified': True,\n",
       "   'followers_count': 332072,\n",
       "   'friends_count': 654,\n",
       "   'listed_count': 470,\n",
       "   'favourites_count': 45830,\n",
       "   'statuses_count': 182201,\n",
       "   'created_at': 'Wed Jan 06 04:17:52 +0000 2010',\n",
       "   'utc_offset': None,\n",
       "   'time_zone': None,\n",
       "   'geo_enabled': True,\n",
       "   'lang': 'en',\n",
       "   'contributors_enabled': False,\n",
       "   'is_translator': False,\n",
       "   'profile_background_color': '9AE4E8',\n",
       "   'profile_background_image_url': 'http://abs.twimg.com/images/themes/theme16/bg.gif',\n",
       "   'profile_background_image_url_https': 'https://abs.twimg.com/images/themes/theme16/bg.gif',\n",
       "   'profile_background_tile': False,\n",
       "   'profile_link_color': '0084B4',\n",
       "   'profile_sidebar_border_color': 'BDDCAD',\n",
       "   'profile_sidebar_fill_color': 'DDFFCC',\n",
       "   'profile_text_color': '333333',\n",
       "   'profile_use_background_image': True,\n",
       "   'profile_image_url': 'http://pbs.twimg.com/profile_images/759927067681042433/GW1NFtOZ_normal.jpg',\n",
       "   'profile_image_url_https': 'https://pbs.twimg.com/profile_images/759927067681042433/GW1NFtOZ_normal.jpg',\n",
       "   'default_profile': False,\n",
       "   'default_profile_image': False,\n",
       "   'following': None,\n",
       "   'follow_request_sent': None,\n",
       "   'notifications': None},\n",
       "  'geo': None,\n",
       "  'coordinates': None,\n",
       "  'place': None,\n",
       "  'contributors': None,\n",
       "  'is_quote_status': False,\n",
       "  'extended_tweet': {'full_text': \"#Hollywood Trade Publication #Deadline covers #2Point0 's ₹ 400 Crs ($60.1 Million) WW Opening Weekend Gross.. \\n\\nhttps://t.co/XHbtOEh8aJ https://t.co/PedEvjrFsX\",\n",
       "   'display_text_range': [0, 136],\n",
       "   'entities': {'hashtags': [{'text': 'Hollywood', 'indices': [0, 10]},\n",
       "     {'text': 'Deadline', 'indices': [29, 38]},\n",
       "     {'text': '2Point0', 'indices': [46, 54]}],\n",
       "    'urls': [{'url': 'https://t.co/XHbtOEh8aJ',\n",
       "      'expanded_url': 'https://deadline.com/2018/12/fantastic-beasts-grindelwald-crazy-rich-asians-china-venom-ralph-breaks-the-internet-bohemian-rhapsody-global-international-box-office-1202512458/',\n",
       "      'display_url': 'deadline.com/2018/12/fantas…',\n",
       "      'indices': [113, 136]}],\n",
       "    'user_mentions': [],\n",
       "    'symbols': [],\n",
       "    'media': [{'id': 1069640237763051527,\n",
       "      'id_str': '1069640237763051527',\n",
       "      'indices': [137, 160],\n",
       "      'media_url': 'http://pbs.twimg.com/media/DtggIQlUwAcM4Y_.jpg',\n",
       "      'media_url_https': 'https://pbs.twimg.com/media/DtggIQlUwAcM4Y_.jpg',\n",
       "      'url': 'https://t.co/PedEvjrFsX',\n",
       "      'display_url': 'pic.twitter.com/PedEvjrFsX',\n",
       "      'expanded_url': 'https://twitter.com/rameshlaus/status/1069640271976001536/photo/1',\n",
       "      'type': 'photo',\n",
       "      'sizes': {'thumb': {'w': 150, 'h': 150, 'resize': 'crop'},\n",
       "       'small': {'w': 669, 'h': 280, 'resize': 'fit'},\n",
       "       'large': {'w': 669, 'h': 280, 'resize': 'fit'},\n",
       "       'medium': {'w': 669, 'h': 280, 'resize': 'fit'}}}]},\n",
       "   'extended_entities': {'media': [{'id': 1069640237763051527,\n",
       "      'id_str': '1069640237763051527',\n",
       "      'indices': [137, 160],\n",
       "      'media_url': 'http://pbs.twimg.com/media/DtggIQlUwAcM4Y_.jpg',\n",
       "      'media_url_https': 'https://pbs.twimg.com/media/DtggIQlUwAcM4Y_.jpg',\n",
       "      'url': 'https://t.co/PedEvjrFsX',\n",
       "      'display_url': 'pic.twitter.com/PedEvjrFsX',\n",
       "      'expanded_url': 'https://twitter.com/rameshlaus/status/1069640271976001536/photo/1',\n",
       "      'type': 'photo',\n",
       "      'sizes': {'thumb': {'w': 150, 'h': 150, 'resize': 'crop'},\n",
       "       'small': {'w': 669, 'h': 280, 'resize': 'fit'},\n",
       "       'large': {'w': 669, 'h': 280, 'resize': 'fit'},\n",
       "       'medium': {'w': 669, 'h': 280, 'resize': 'fit'}}}]}},\n",
       "  'quote_count': 5,\n",
       "  'reply_count': 4,\n",
       "  'retweet_count': 221,\n",
       "  'favorite_count': 741,\n",
       "  'entities': {'hashtags': [{'text': 'Hollywood', 'indices': [0, 10]},\n",
       "    {'text': 'Deadline', 'indices': [29, 38]},\n",
       "    {'text': '2Point0', 'indices': [46, 54]}],\n",
       "   'urls': [{'url': 'https://t.co/E6uxUxwrQr',\n",
       "     'expanded_url': 'https://twitter.com/i/web/status/1069640271976001536',\n",
       "     'display_url': 'twitter.com/i/web/status/1…',\n",
       "     'indices': [112, 135]}],\n",
       "   'user_mentions': [],\n",
       "   'symbols': []},\n",
       "  'favorited': False,\n",
       "  'retweeted': False,\n",
       "  'possibly_sensitive': False,\n",
       "  'filter_level': 'low',\n",
       "  'lang': 'en'},\n",
       " 'is_quote_status': False,\n",
       " 'quote_count': 0,\n",
       " 'reply_count': 0,\n",
       " 'retweet_count': 0,\n",
       " 'favorite_count': 0,\n",
       " 'entities': {'hashtags': [{'text': 'Hollywood', 'indices': [16, 26]},\n",
       "   {'text': 'Deadline', 'indices': [45, 54]},\n",
       "   {'text': '2Point0', 'indices': [62, 70]}],\n",
       "  'urls': [],\n",
       "  'user_mentions': [{'screen_name': 'rameshlaus',\n",
       "    'name': 'Ramesh Bala',\n",
       "    'id': 102268884,\n",
       "    'id_str': '102268884',\n",
       "    'indices': [3, 14]}],\n",
       "  'symbols': []},\n",
       " 'favorited': False,\n",
       " 'retweeted': False,\n",
       " 'filter_level': 'low',\n",
       " 'lang': 'en',\n",
       " 'timestamp_ms': '1543888529474'}"
      ]
     },
     "execution_count": 24,
     "metadata": {},
     "output_type": "execute_result"
    }
   ],
   "source": [
    "tweets_trade_data[1]"
   ]
  },
  {
   "cell_type": "code",
   "execution_count": 127,
   "metadata": {},
   "outputs": [],
   "source": [
    "trade_tweets = pd.DataFrame()\n",
    "trade_tweets['text'] = [p['text'] for p in tweets_trade_data]\n",
    "trade_tweets['user name'] = [p['user']['name'] for p in tweets_trade_data]\n",
    "trade_tweets['location'] = [p['user']['location'] for p in tweets_trade_data]\n",
    "trade_tweets['followers count'] = [p['user']['followers_count'] for p in tweets_trade_data]\n",
    "trade_tweets['description'] = [p['user']['description'] for p in tweets_trade_data]\n",
    "trade_tweets['url'] = [p['entities']['urls'] for p in tweets_trade_data if p['entities']['urls'] != None]\n",
    "trade_tweets['hashtags'] = [p['entities']['hashtags'] for p in tweets_trade_data]\n",
    "trade_tweets['user_mentions'] = [p['entities']['user_mentions'] for p in tweets_trade_data]"
   ]
  },
  {
   "cell_type": "code",
   "execution_count": 10,
   "metadata": {},
   "outputs": [
    {
     "data": {
      "text/html": [
       "<div>\n",
       "<style scoped>\n",
       "    .dataframe tbody tr th:only-of-type {\n",
       "        vertical-align: middle;\n",
       "    }\n",
       "\n",
       "    .dataframe tbody tr th {\n",
       "        vertical-align: top;\n",
       "    }\n",
       "\n",
       "    .dataframe thead th {\n",
       "        text-align: right;\n",
       "    }\n",
       "</style>\n",
       "<table border=\"1\" class=\"dataframe\">\n",
       "  <thead>\n",
       "    <tr style=\"text-align: right;\">\n",
       "      <th></th>\n",
       "      <th>text</th>\n",
       "      <th>user name</th>\n",
       "      <th>location</th>\n",
       "      <th>followers count</th>\n",
       "      <th>description</th>\n",
       "      <th>url</th>\n",
       "      <th>hashtags</th>\n",
       "      <th>user_mentions</th>\n",
       "    </tr>\n",
       "  </thead>\n",
       "  <tbody>\n",
       "    <tr>\n",
       "      <th>0</th>\n",
       "      <td>RT @MarkSimoneNY: Saturday China made concessi...</td>\n",
       "      <td>BigCatMEM87</td>\n",
       "      <td>TN</td>\n",
       "      <td>329</td>\n",
       "      <td>Father, Former Tiger #87, 85-90. Proud Father ...</td>\n",
       "      <td>[]</td>\n",
       "      <td>[]</td>\n",
       "      <td>[{'screen_name': 'MarkSimoneNY', 'name': 'MARK...</td>\n",
       "    </tr>\n",
       "    <tr>\n",
       "      <th>1</th>\n",
       "      <td>RT @rameshlaus: #Hollywood Trade Publication #...</td>\n",
       "      <td>Godson 2.0</td>\n",
       "      <td>India, Tamilnadu</td>\n",
       "      <td>254</td>\n",
       "      <td>POLITICS...Make it Simple... Humble... and Con...</td>\n",
       "      <td>[]</td>\n",
       "      <td>[{'text': 'Hollywood', 'indices': [16, 26]}, {...</td>\n",
       "      <td>[{'screen_name': 'rameshlaus', 'name': 'Ramesh...</td>\n",
       "    </tr>\n",
       "    <tr>\n",
       "      <th>2</th>\n",
       "      <td>RT @AmoneyResists: The tariff rate was 15% bac...</td>\n",
       "      <td>Bbarber</td>\n",
       "      <td>None</td>\n",
       "      <td>491</td>\n",
       "      <td>None</td>\n",
       "      <td>[]</td>\n",
       "      <td>[]</td>\n",
       "      <td>[{'screen_name': 'AmoneyResists', 'name': 'And...</td>\n",
       "    </tr>\n",
       "    <tr>\n",
       "      <th>3</th>\n",
       "      <td>The best way China and the US can meet their r...</td>\n",
       "      <td>Global Analytica</td>\n",
       "      <td>Worldwide</td>\n",
       "      <td>266</td>\n",
       "      <td>Providing insightful analysis, interviews and ...</td>\n",
       "      <td>[{'url': 'https://t.co/PIg3GtUOkP', 'expanded_...</td>\n",
       "      <td>[]</td>\n",
       "      <td>[]</td>\n",
       "    </tr>\n",
       "    <tr>\n",
       "      <th>4</th>\n",
       "      <td>RT @suilee: As part of the Trump-Xi meeting, C...</td>\n",
       "      <td>Maggie Lewis 陸梅吉</td>\n",
       "      <td>New Jersey, USA</td>\n",
       "      <td>2027</td>\n",
       "      <td>Professor @SetonHallLaw Former Senior Scholar ...</td>\n",
       "      <td>[]</td>\n",
       "      <td>[]</td>\n",
       "      <td>[{'screen_name': 'suilee', 'name': 'Sui-Lee We...</td>\n",
       "    </tr>\n",
       "  </tbody>\n",
       "</table>\n",
       "</div>"
      ],
      "text/plain": [
       "                                                text         user name  \\\n",
       "0  RT @MarkSimoneNY: Saturday China made concessi...       BigCatMEM87   \n",
       "1  RT @rameshlaus: #Hollywood Trade Publication #...        Godson 2.0   \n",
       "2  RT @AmoneyResists: The tariff rate was 15% bac...           Bbarber   \n",
       "3  The best way China and the US can meet their r...  Global Analytica   \n",
       "4  RT @suilee: As part of the Trump-Xi meeting, C...  Maggie Lewis 陸梅吉   \n",
       "\n",
       "           location  followers count  \\\n",
       "0                TN              329   \n",
       "1  India, Tamilnadu              254   \n",
       "2              None              491   \n",
       "3         Worldwide              266   \n",
       "4   New Jersey, USA             2027   \n",
       "\n",
       "                                         description  \\\n",
       "0  Father, Former Tiger #87, 85-90. Proud Father ...   \n",
       "1  POLITICS...Make it Simple... Humble... and Con...   \n",
       "2                                               None   \n",
       "3  Providing insightful analysis, interviews and ...   \n",
       "4  Professor @SetonHallLaw Former Senior Scholar ...   \n",
       "\n",
       "                                                 url  \\\n",
       "0                                                 []   \n",
       "1                                                 []   \n",
       "2                                                 []   \n",
       "3  [{'url': 'https://t.co/PIg3GtUOkP', 'expanded_...   \n",
       "4                                                 []   \n",
       "\n",
       "                                            hashtags  \\\n",
       "0                                                 []   \n",
       "1  [{'text': 'Hollywood', 'indices': [16, 26]}, {...   \n",
       "2                                                 []   \n",
       "3                                                 []   \n",
       "4                                                 []   \n",
       "\n",
       "                                       user_mentions  \n",
       "0  [{'screen_name': 'MarkSimoneNY', 'name': 'MARK...  \n",
       "1  [{'screen_name': 'rameshlaus', 'name': 'Ramesh...  \n",
       "2  [{'screen_name': 'AmoneyResists', 'name': 'And...  \n",
       "3                                                 []  \n",
       "4  [{'screen_name': 'suilee', 'name': 'Sui-Lee We...  "
      ]
     },
     "execution_count": 10,
     "metadata": {},
     "output_type": "execute_result"
    }
   ],
   "source": [
    "trade_tweets.head()"
   ]
  },
  {
   "cell_type": "markdown",
   "metadata": {},
   "source": [
    "## hashtag"
   ]
  },
  {
   "cell_type": "code",
   "execution_count": 121,
   "metadata": {},
   "outputs": [
    {
     "data": {
      "text/plain": [
       "40084"
      ]
     },
     "execution_count": 121,
     "metadata": {},
     "output_type": "execute_result"
    }
   ],
   "source": [
    "hashtags=[]\n",
    "for i in range(len(tweets_trade_data)):\n",
    "    if tweets_trade_data[i]['entities']['hashtags']!=[]:\n",
    "        a=tweets_trade_data[i]['entities']['hashtags']\n",
    "        for j in range(len(a)):\n",
    "            hashtags.append(a[j][\"text\"])\n",
    "        #hashtags.append(tweets_trade_data[i]['entities']['hashtags'][0][\"text\"])\n",
    "    else:\n",
    "        hashtags.append(\"None\")\n",
    "\n",
    "len(hashtags)\n"
   ]
  },
  {
   "cell_type": "code",
   "execution_count": 123,
   "metadata": {},
   "outputs": [
    {
     "data": {
      "text/plain": [
       "8389"
      ]
     },
     "execution_count": 123,
     "metadata": {},
     "output_type": "execute_result"
    }
   ],
   "source": [
    "hashtags=[]\n",
    "for i in range(len(tweets_trade_data)):\n",
    "    a=tweets_trade_data[i]['entities']['hashtags']\n",
    "    if a:\n",
    "        hashtext=[a[j]['text'] for j in range(len(a))]\n",
    "        for tag in hashtext:\n",
    "            hashtags.append(tag)\n",
    "        #hashtags.append(tweets_trade_data[i]['entities']['hashtags'][0][\"text\"])\n",
    "    #else:\n",
    "        #hashtags.append(\"None\")\n",
    "\n",
    "len(hashtags)"
   ]
  },
  {
   "cell_type": "code",
   "execution_count": 124,
   "metadata": {},
   "outputs": [
    {
     "data": {
      "text/plain": [
       "China           682\n",
       "Trump           452\n",
       "Huawei          303\n",
       "泛亚              222\n",
       "昆明              222\n",
       "云南              222\n",
       "中共              222\n",
       "US              189\n",
       "Trumponomics    183\n",
       "MAGA            182\n",
       "ivory           152\n",
       "TariffMan       140\n",
       "Winning         122\n",
       "trade           117\n",
       "BREAKING         91\n",
       "TradeWar         83\n",
       "Dow              82\n",
       "Iran             60\n",
       "BeltandRoad      58\n",
       "TradeWars        57\n",
       "Name: 0, dtype: int64"
      ]
     },
     "execution_count": 124,
     "metadata": {},
     "output_type": "execute_result"
    }
   ],
   "source": [
    "hashtags_new=[x for x in hashtags]\n",
    "hashtag_df=pd.DataFrame(hashtags_new)\n",
    "hashtag_df[0].value_counts()[0:20]"
   ]
  },
  {
   "cell_type": "markdown",
   "metadata": {},
   "source": [
    "## top authoritative users"
   ]
  },
  {
   "cell_type": "code",
   "execution_count": 14,
   "metadata": {},
   "outputs": [
    {
     "data": {
      "text/plain": [
       "35758"
      ]
     },
     "execution_count": 14,
     "metadata": {},
     "output_type": "execute_result"
    }
   ],
   "source": [
    "top_user=trade_tweets[['user name','followers count']]\n",
    "len(top_user)"
   ]
  },
  {
   "cell_type": "code",
   "execution_count": 128,
   "metadata": {},
   "outputs": [],
   "source": [
    "eco=trade_tweets[trade_tweets['user name']=='The Economist']"
   ]
  },
  {
   "cell_type": "code",
   "execution_count": 129,
   "metadata": {},
   "outputs": [
    {
     "data": {
      "text/html": [
       "<div>\n",
       "<style scoped>\n",
       "    .dataframe tbody tr th:only-of-type {\n",
       "        vertical-align: middle;\n",
       "    }\n",
       "\n",
       "    .dataframe tbody tr th {\n",
       "        vertical-align: top;\n",
       "    }\n",
       "\n",
       "    .dataframe thead th {\n",
       "        text-align: right;\n",
       "    }\n",
       "</style>\n",
       "<table border=\"1\" class=\"dataframe\">\n",
       "  <thead>\n",
       "    <tr style=\"text-align: right;\">\n",
       "      <th></th>\n",
       "      <th>text</th>\n",
       "      <th>user name</th>\n",
       "      <th>location</th>\n",
       "      <th>followers count</th>\n",
       "      <th>description</th>\n",
       "      <th>url</th>\n",
       "      <th>hashtags</th>\n",
       "      <th>user_mentions</th>\n",
       "    </tr>\n",
       "  </thead>\n",
       "  <tbody>\n",
       "  </tbody>\n",
       "</table>\n",
       "</div>"
      ],
      "text/plain": [
       "Empty DataFrame\n",
       "Columns: [text, user name, location, followers count, description, url, hashtags, user_mentions]\n",
       "Index: []"
      ]
     },
     "execution_count": 129,
     "metadata": {},
     "output_type": "execute_result"
    }
   ],
   "source": [
    "eco"
   ]
  },
  {
   "cell_type": "code",
   "execution_count": 134,
   "metadata": {},
   "outputs": [],
   "source": [
    "for i in range(len(tweets_trade_data)):\n",
    "    if tweets_trade_data[i]['user']['name']=='The Economist':\n",
    "        print(i)"
   ]
  },
  {
   "cell_type": "code",
   "execution_count": 16,
   "metadata": {},
   "outputs": [
    {
     "data": {
      "text/html": [
       "<div>\n",
       "<style scoped>\n",
       "    .dataframe tbody tr th:only-of-type {\n",
       "        vertical-align: middle;\n",
       "    }\n",
       "\n",
       "    .dataframe tbody tr th {\n",
       "        vertical-align: top;\n",
       "    }\n",
       "\n",
       "    .dataframe thead th {\n",
       "        text-align: right;\n",
       "    }\n",
       "</style>\n",
       "<table border=\"1\" class=\"dataframe\">\n",
       "  <thead>\n",
       "    <tr style=\"text-align: right;\">\n",
       "      <th></th>\n",
       "      <th>followers count</th>\n",
       "    </tr>\n",
       "    <tr>\n",
       "      <th>user name</th>\n",
       "      <th></th>\n",
       "    </tr>\n",
       "  </thead>\n",
       "  <tbody>\n",
       "    <tr>\n",
       "      <th>CNN Breaking News</th>\n",
       "      <td>54469239</td>\n",
       "    </tr>\n",
       "    <tr>\n",
       "      <th>The New York Times</th>\n",
       "      <td>42418269</td>\n",
       "    </tr>\n",
       "    <tr>\n",
       "      <th>CNN</th>\n",
       "      <td>40861723</td>\n",
       "    </tr>\n",
       "    <tr>\n",
       "      <th>Reuters Top News</th>\n",
       "      <td>20033073</td>\n",
       "    </tr>\n",
       "    <tr>\n",
       "      <th>The Wall Street Journal</th>\n",
       "      <td>16198163</td>\n",
       "    </tr>\n",
       "    <tr>\n",
       "      <th>TIME</th>\n",
       "      <td>15590244</td>\n",
       "    </tr>\n",
       "    <tr>\n",
       "      <th>ABC News</th>\n",
       "      <td>13987970</td>\n",
       "    </tr>\n",
       "    <tr>\n",
       "      <th>The Washington Post</th>\n",
       "      <td>13129229</td>\n",
       "    </tr>\n",
       "    <tr>\n",
       "      <th>The Associated Press</th>\n",
       "      <td>13056892</td>\n",
       "    </tr>\n",
       "    <tr>\n",
       "      <th>China Xinhua News</th>\n",
       "      <td>11679049</td>\n",
       "    </tr>\n",
       "    <tr>\n",
       "      <th>Times of India</th>\n",
       "      <td>11451404</td>\n",
       "    </tr>\n",
       "    <tr>\n",
       "      <th>Breaking News</th>\n",
       "      <td>9225810</td>\n",
       "    </tr>\n",
       "    <tr>\n",
       "      <th>CNN International</th>\n",
       "      <td>8075546</td>\n",
       "    </tr>\n",
       "    <tr>\n",
       "      <th>NPR</th>\n",
       "      <td>7623957</td>\n",
       "    </tr>\n",
       "    <tr>\n",
       "      <th>The Guardian</th>\n",
       "      <td>7438537</td>\n",
       "    </tr>\n",
       "  </tbody>\n",
       "</table>\n",
       "</div>"
      ],
      "text/plain": [
       "                         followers count\n",
       "user name                               \n",
       "CNN Breaking News               54469239\n",
       "The New York Times              42418269\n",
       "CNN                             40861723\n",
       "Reuters Top News                20033073\n",
       "The Wall Street Journal         16198163\n",
       "TIME                            15590244\n",
       "ABC News                        13987970\n",
       "The Washington Post             13129229\n",
       "The Associated Press            13056892\n",
       "China Xinhua News               11679049\n",
       "Times of India                  11451404\n",
       "Breaking News                    9225810\n",
       "CNN International                8075546\n",
       "NPR                              7623957\n",
       "The Guardian                     7438537"
      ]
     },
     "execution_count": 16,
     "metadata": {},
     "output_type": "execute_result"
    }
   ],
   "source": [
    "users=top_user.groupby(['user name']).max().sort_values('followers count',ascending=False)\n",
    "users[0:15]"
   ]
  },
  {
   "cell_type": "markdown",
   "metadata": {},
   "source": [
    "## text"
   ]
  },
  {
   "cell_type": "code",
   "execution_count": 22,
   "metadata": {},
   "outputs": [],
   "source": [
    "all_text_data=trade_tweets[['text']]\n",
    "\n",
    "all_text_words = ' '\n",
    "for val in all_text_data['text']: \n",
    "    for words in str(val).split():\n",
    "        all_text_words = all_text_words + words.lower() + ' '"
   ]
  },
  {
   "cell_type": "code",
   "execution_count": 99,
   "metadata": {},
   "outputs": [
    {
     "name": "stdout",
     "output_type": "stream",
     "text": [
      "Trade\n",
      "Publication\n",
      "covers\n",
      "'s\n",
      "₹\n",
      "400\n",
      "Crs\n",
      "($60.1\n",
      "Million)\n",
      "WW\n",
      "Opening\n",
      "Weekend\n",
      "Gross..\n"
     ]
    },
    {
     "data": {
      "text/plain": [
       "['saturday',\n",
       " 'china',\n",
       " 'made',\n",
       " 'concessions',\n",
       " 'president',\n",
       " 'trump',\n",
       " 'theyll',\n",
       " 'reduce',\n",
       " 'tariffs',\n",
       " 'also',\n",
       " 'buy',\n",
       " 'us',\n",
       " 'products']"
      ]
     },
     "execution_count": 99,
     "metadata": {},
     "output_type": "execute_result"
    }
   ],
   "source": [
    "import re\n",
    "import string\n",
    "#from wordcloud import WordCloud, STOPWORDS \n",
    "#stopwords = set(STOPWORDS)\n",
    "\n",
    "from nltk.corpus import stopwords\n",
    "\n",
    "a=tweets_trade_data[1]['text']\n",
    "\n",
    "result = re.sub(r\"@\\S+|http\\S+|rt|RT|#\\S+\", \"\", a)\n",
    "for i in result.strip().split():\n",
    "    print(i)\n",
    "words=[word.lower() for word in stripped if word.isalpha()]\n",
    "#table = str.maketrans('', '', string.punctuation)\n",
    "#stripped = [w.translate(table) for w in result.split()]\n",
    "clean_words = [w for w in words if not w in stopwords.words('english')]\n",
    "clean_words"
   ]
  },
  {
   "cell_type": "code",
   "execution_count": 81,
   "metadata": {},
   "outputs": [
    {
     "ename": "NameError",
     "evalue": "name 'all_text_words' is not defined",
     "output_type": "error",
     "traceback": [
      "\u001b[1;31m---------------------------------------------------------------------------\u001b[0m",
      "\u001b[1;31mNameError\u001b[0m                                 Traceback (most recent call last)",
      "\u001b[1;32m<ipython-input-81-a6105fa3e408>\u001b[0m in \u001b[0;36m<module>\u001b[1;34m()\u001b[0m\n\u001b[0;32m      7\u001b[0m \u001b[0mstopwords\u001b[0m \u001b[1;33m=\u001b[0m \u001b[0mset\u001b[0m\u001b[1;33m(\u001b[0m\u001b[0mSTOPWORDS\u001b[0m\u001b[1;33m)\u001b[0m\u001b[1;33m\u001b[0m\u001b[0m\n\u001b[0;32m      8\u001b[0m \u001b[1;33m\u001b[0m\u001b[0m\n\u001b[1;32m----> 9\u001b[1;33m \u001b[0mresult\u001b[0m \u001b[1;33m=\u001b[0m \u001b[0mre\u001b[0m\u001b[1;33m.\u001b[0m\u001b[0msub\u001b[0m\u001b[1;33m(\u001b[0m\u001b[1;34mr\"@\\S+|http\\S+|rt\"\u001b[0m\u001b[1;33m,\u001b[0m \u001b[1;34m\"\"\u001b[0m\u001b[1;33m,\u001b[0m \u001b[0mall_text_words\u001b[0m\u001b[1;33m)\u001b[0m \u001b[1;31m#remove @ link\u001b[0m\u001b[1;33m\u001b[0m\u001b[0m\n\u001b[0m\u001b[0;32m     10\u001b[0m \u001b[0mtable\u001b[0m \u001b[1;33m=\u001b[0m \u001b[0mstr\u001b[0m\u001b[1;33m.\u001b[0m\u001b[0mmaketrans\u001b[0m\u001b[1;33m(\u001b[0m\u001b[1;34m''\u001b[0m\u001b[1;33m,\u001b[0m \u001b[1;34m''\u001b[0m\u001b[1;33m,\u001b[0m \u001b[0mstring\u001b[0m\u001b[1;33m.\u001b[0m\u001b[0mpunctuation\u001b[0m\u001b[1;33m)\u001b[0m\u001b[1;33m\u001b[0m\u001b[0m\n\u001b[0;32m     11\u001b[0m \u001b[0mstripped\u001b[0m \u001b[1;33m=\u001b[0m \u001b[1;33m[\u001b[0m\u001b[0mw\u001b[0m\u001b[1;33m.\u001b[0m\u001b[0mtranslate\u001b[0m\u001b[1;33m(\u001b[0m\u001b[0mtable\u001b[0m\u001b[1;33m)\u001b[0m \u001b[1;32mfor\u001b[0m \u001b[0mw\u001b[0m \u001b[1;32min\u001b[0m \u001b[0mresult\u001b[0m\u001b[1;33m.\u001b[0m\u001b[0msplit\u001b[0m\u001b[1;33m(\u001b[0m\u001b[1;33m)\u001b[0m\u001b[1;33m]\u001b[0m\u001b[1;33m\u001b[0m\u001b[0m\n",
      "\u001b[1;31mNameError\u001b[0m: name 'all_text_words' is not defined"
     ]
    }
   ],
   "source": [
    "## all the tweets\n",
    "import nltk\n",
    "import string\n",
    "import re\n",
    "import collections\n",
    "from wordcloud import WordCloud, STOPWORDS \n",
    "stopwords = set(STOPWORDS) \n",
    "\n",
    "result = re.sub(r\"@\\S+|http\\S+|rt\", \"\", all_text_words) #remove @ link\n",
    "table = str.maketrans('', '', string.punctuation)\n",
    "stripped = [w.translate(table) for w in result.split()] \n",
    "words=[word for word in stripped if word.isalpha()] #remove punctuation\n",
    "clean_words = [w for w in words if not w in stopwords] #remove stopwords"
   ]
  },
  {
   "cell_type": "code",
   "execution_count": 32,
   "metadata": {},
   "outputs": [
    {
     "name": "stdout",
     "output_type": "stream",
     "text": [
      "Top 15 words in all tweets: \n",
      "\n",
      "trade :  17252\n",
      "china :  12535\n",
      "trump :  7554\n",
      "us :  7205\n",
      "war :  5529\n",
      "huawei :  4199\n",
      "president :  3213\n",
      "chinese :  3149\n",
      "uschina :  2725\n",
      "arrest :  2481\n",
      "deal :  2352\n",
      "deficit :  2269\n",
      "donald :  2259\n",
      "dow :  2055\n",
      "talks :  2053\n"
     ]
    }
   ],
   "source": [
    "wordcount={}\n",
    "for word in clean_words:\n",
    "    if word not in wordcount:\n",
    "        wordcount[word] = 1\n",
    "    else:\n",
    "        wordcount[word] += 1\n",
    "\n",
    "print(\"Top 15 words in all tweets: \\n\")\n",
    "word_counter = collections.Counter(wordcount)\n",
    "for word, count in word_counter.most_common(15):\n",
    "    print(word, \": \", count) "
   ]
  },
  {
   "cell_type": "code",
   "execution_count": 72,
   "metadata": {},
   "outputs": [],
   "source": [
    "# tfidf\n",
    "import nltk\n",
    "from nltk.tokenize import word_tokenize\n",
    "from nltk.stem.porter import PorterStemmer\n",
    "tfidf_clean=[]\n",
    "for i in range(len(tfidf_text)):\n",
    "    # filter out punctuation\n",
    "    text=tfidf_text[i]\n",
    "    tokens = word_tokenize(text)\n",
    "    # convert to lower case\n",
    "    tokens=[w.lower() for w in tokens]\n",
    "    words = [word for word in tokens if word.isalpha()]\n",
    "    # lemmatize the data\n",
    "    porter = PorterStemmer()\n",
    "    stemmed = [porter.stem(word) for word in words]\n",
    "    tfidf_clean.append(' '.join(word for word in stemmed))"
   ]
  },
  {
   "cell_type": "code",
   "execution_count": 74,
   "metadata": {},
   "outputs": [],
   "source": [
    "# all retweet text\n",
    "tfidf_text=[]\n",
    "for t in retweets:\n",
    "    if 'extended_tweet' not in t:\n",
    "        tfidf_text.append(t['text'])\n",
    "    else:\n",
    "        tfidf_text.append(t['extended_tweet']['full_text'])\n"
   ]
  },
  {
   "cell_type": "markdown",
   "metadata": {},
   "source": [
    "## url"
   ]
  },
  {
   "cell_type": "code",
   "execution_count": 33,
   "metadata": {},
   "outputs": [
    {
     "data": {
      "text/plain": [
       "35758"
      ]
     },
     "execution_count": 33,
     "metadata": {},
     "output_type": "execute_result"
    }
   ],
   "source": [
    "url=[]\n",
    "for i in range(len(tweets_trade_data)):\n",
    "    if tweets_trade_data[i]['entities']['urls']!=[]:\n",
    "        url.append(tweets_trade_data[i]['entities']['urls'][0][\"url\"])\n",
    "    else:\n",
    "        url.append(\"None\")\n",
    "\n",
    "len(url) #35758"
   ]
  },
  {
   "cell_type": "code",
   "execution_count": 34,
   "metadata": {},
   "outputs": [
    {
     "name": "stdout",
     "output_type": "stream",
     "text": [
      "Top urls in tweets: \n",
      "\n"
     ]
    },
    {
     "data": {
      "text/plain": [
       "None                       21301\n",
       "https://t.co/aklAnPBqYV      169\n",
       "https://t.co/Qc4JGiftDy      144\n",
       "https://t.co/k0SF9hH3mW      112\n",
       "https://t.co/k0SF9hprYm      110\n",
       "https://t.co/XdJgpQpL1I      102\n",
       "https://t.co/KZEiBixtw4       87\n",
       "https://t.co/O7KuVGIsE5       85\n",
       "https://t.co/QBpJI4o7Ua       80\n",
       "https://t.co/VEqZj30OE9       76\n",
       "Name: 0, dtype: int64"
      ]
     },
     "execution_count": 34,
     "metadata": {},
     "output_type": "execute_result"
    }
   ],
   "source": [
    "print(\"Top urls in tweets: \\n\")\n",
    "url_df=pd.DataFrame(url)\n",
    "url_df[0].value_counts()[0:10]"
   ]
  },
  {
   "cell_type": "markdown",
   "metadata": {},
   "source": [
    "## retweets"
   ]
  },
  {
   "cell_type": "code",
   "execution_count": 55,
   "metadata": {},
   "outputs": [],
   "source": [
    "tweets_data_path='./twitter data/twitter_trade_data.txt'\n",
    "retweets = {}\n",
    "fh = open(tweets_data_path, 'r')\n",
    "for line in fh:\n",
    "    try:\n",
    "        retweet = json.loads(line)\n",
    "    except:\n",
    "        continue\n",
    "    if 'retweeted_status' not in retweet:\n",
    "        continue\n",
    "    rt = retweet['retweeted_status']\n",
    "    if rt['retweet_count'] < 1000:\n",
    "        continue\n",
    "    retweets[rt['id_str']] = rt\n",
    "    # convert to list\n",
    "retweets = [retweets[w] for w in retweets.keys()]\n",
    "    # sort by retweet count\n",
    "retweets.sort(key=lambda x: -x['retweet_count'])"
   ]
  },
  {
   "cell_type": "code",
   "execution_count": 68,
   "metadata": {},
   "outputs": [
    {
     "name": "stdout",
     "output_type": "stream",
     "text": [
      "[realDonaldTrump]: President Xi and I have a very strong and personal relationship. He and I are the only two people that can bring ab… https://t.co/eyJGyAO5qH [14347 retweets]\n",
      "\n",
      "[realDonaldTrump]: “China officially echoed President Donald Trump’s optimism over bilateral trade talks. Chinese officials have begun… https://t.co/fO6YArC2ah [13911 retweets]\n",
      "\n",
      "[brianklaas]: International security crisis in Ukraine; US firing tear gas into Mexico; a chemical weapons attack in Syria; up to… https://t.co/apoPpIebO3 [6046 retweets]\n",
      "\n",
      "[realDonaldTrump]: Now that George Bush is campaigning for Jeb(!), is he fair game for questions about World Trade Center, Iraq War and eco collapse? Careful! [6022 retweets]\n",
      "\n",
      "[wesley_jordan]: Trump's tariffs have cost GM $1 billion, forcing them to lay off 14K workers &amp; close 5 plants. Now, he's attacking… https://t.co/1Ig5xyoK3o [5499 retweets]\n",
      "\n",
      "[ImranKhanPTI]: The failed attack against the Chinese Consulate was clearly a reaction to the unprecedented trade agreements that r… https://t.co/OWstgrMidl [5102 retweets]\n",
      "\n",
      "[RealJamesWoods]: #Winning yet again. No wonder the socialists are in high dudgeon! They have no platform, while Trump is saving Amer… https://t.co/5SccD9inI3 [4523 retweets]\n",
      "\n",
      "[lpbragancabr]: Se o Trump soubesse o quanto o Brasil é importante para China, seria o primeiro a reservar lugar na posse. [4230 retweets]\n",
      "\n",
      "[MuslimIQ]: To recap:\n",
      "•When Govt uses $12B tax dollars to pay for vital healthcare, water, &amp; education—it’s “evil socialism.”\n",
      "•… https://t.co/r3c5Kl21sk [3770 retweets]\n",
      "\n",
      "[business]: Donald Trump is succeeding in making China pay most of the cost of his trade war https://t.co/iPl6SKeK4T [3550 retweets]\n",
      "\n"
     ]
    }
   ],
   "source": [
    "for t in retweets[0:10]:\n",
    "    print ('['+ t['user']['screen_name'] + ']: ' + t['text'] + \\\n",
    "    ' [' + str(t['retweet_count']) + ' retweets]'+'\\n')"
   ]
  },
  {
   "cell_type": "markdown",
   "metadata": {},
   "source": [
    "## Word cloud"
   ]
  },
  {
   "cell_type": "code",
   "execution_count": 37,
   "metadata": {},
   "outputs": [
    {
     "data": {
      "image/png": "[encoded data removed]",
      "text/plain": [
       "<Figure size 576x576 with 1 Axes>"
      ]
     },
     "metadata": {},
     "output_type": "display_data"
    }
   ],
   "source": [
    "plot_words=\" \".join(clean_words)\n",
    "wordcloud = WordCloud(width = 800, height = 800, background_color ='black', \n",
    "                      stopwords = stopwords, min_font_size = 15).generate(plot_words) \n",
    "  \n",
    "# plot wordcloud image                      \n",
    "plt.figure(figsize = (8, 8), facecolor = 'blue') \n",
    "plt.imshow(wordcloud) \n",
    "plt.axis(\"off\") \n",
    "plt.tight_layout(pad = 0) \n",
    "  \n",
    "plt.show() "
   ]
  },
  {
   "cell_type": "code",
   "execution_count": null,
   "metadata": {},
   "outputs": [],
   "source": []
  }
 ],
 "metadata": {
  "kernelspec": {
   "display_name": "Python 3",
   "language": "python",
   "name": "python3"
  },
  "language_info": {
   "codemirror_mode": {
    "name": "ipython",
    "version": 3
   },
   "file_extension": ".py",
   "mimetype": "text/x-python",
   "name": "python",
   "nbconvert_exporter": "python",
   "pygments_lexer": "ipython3",
   "version": "3.6.5"
  }
 },
 "nbformat": 4,
 "nbformat_minor": 2
}
